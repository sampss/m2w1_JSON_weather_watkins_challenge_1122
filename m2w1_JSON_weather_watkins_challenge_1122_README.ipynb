{
 "cells": [
  {
   "cell_type": "markdown",
   "metadata": {},
   "source": [
    "# Challenge - parse json file into a Pandas dataframe\n",
    "\n",
    "Using JSON data file: \"https://raw.githubusercontent.com/stevewatkins17/PythonForDataAnalysis/refs/heads/mainline/Data/nws_weather_4HourForecast.json\"\n",
    "\n",
    "Display the following dataframe (in index sort order)\n",
    "\n",
    "\tstartTime\t                shortForecast\ttemperature\tprobabilityOfPrecipitation\trelativeHumidity\tdewpoint\n",
    "0\t2024-11-16T11:00:00-05:00\tPartly Sunny\t51\t        0\t                        71\t                5.555556\n",
    "1\t2024-11-16T12:00:00-05:00\tPartly Sunny\t53\t        0\t                        69\t                6.111111\n",
    "2\t2024-11-16T13:00:00-05:00\tPartly Sunny\t54\t        0\t                        69\t                6.666667\n",
    "3\t2024-11-16T14:00:00-05:00\tPartly Sunny\t54\t        0\t                        66\t                6.111111\n",
    "\n",
    "## Suggested pre-requisites\n",
    "- Create a new python project in vscode \n",
    "- create a virtual (venv) environment for your project\n",
    "- Create a new jupyter notebook that uses the new venv as its kernal\n",
    "\n",
    "## steps\n",
    "- Download JSON file \"nws_weather_4HourForecast.json\" to the root directory of your python project.\n",
    "- Import the json file into a Python dictionary.\n",
    "- Iterate through the \"Properties\" key, loading keys and values into a Pandas dataframe \n",
    "- Display as a table the following columns:\n",
    "  \"startTime\" ,\"shortForecast\" ,\"temperature\" ,\"probabilityOfPrecipitation\" ,\"relativeHumidity\"\n",
    "\n",
    "# More Challenge\n",
    "The above not enough for you? Try these:\n",
    "- download the JSON file directly into your Jupyter notebook by making a URL request to the address shown above\n",
    "- rename columns to shorter, easier-to-display names\n",
    "- reformat the datetime value to something easier to read for someone in its offset timezone (US Eastern)\n",
    "- convert the dewpoint's Celsius value to Fahrenheit\n",
    "- concatenate columns \"temperature\" and \"temperatureUnit\" so that the reader better understands the \"temperature\" value\n",
    "- use a json datafile that you download directly from the source \"https://api.weather.gov\""
   ]
  },
  {
   "cell_type": "code",
   "execution_count": null,
   "metadata": {},
   "outputs": [],
   "source": []
  }
 ],
 "metadata": {
  "kernelspec": {
   "display_name": ".venv",
   "language": "python",
   "name": "python3"
  },
  "language_info": {
   "name": "python",
   "version": "3.13.0"
  }
 },
 "nbformat": 4,
 "nbformat_minor": 2
}
