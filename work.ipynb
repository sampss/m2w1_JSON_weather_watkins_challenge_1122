{
 "cells": [
  {
   "cell_type": "markdown",
   "metadata": {},
   "source": [
    "<h1>m2w1_JSON_weather_watkins_challenge_1122</h2>\n",
    "\n",
    "<b>Challenge Steps</b>\n",
    "<ol>\n",
    "<li>New Project - Done</li>\n",
    "<li>New Venv - Done</li>\n",
    "<li>New Jupyter - Done</li>\n",
    "<li>Download JSON file \"nws_weather_4HourForecast.json\" to the root directory of your python project.</li>\n",
    "<li>Import the json file into a Python dictionary.</li>\n",
    "<li>Iterate through the \"Properties\" key, loading keys and values into a Pandas dataframe</li>\n",
    "<li>Display as a table the following columns:\n",
    "\"startTime\" ,\"shortForecast\" ,\"temperature\" ,\"probabilityOfPrecipitation\" ,\"relativeHumidity\"\n",
    "</li>\n",
    "</ol>\n",
    " \n",
    "<!--\n",
    "\n",
    "<b>More Challenge<\\b>\n",
    "<ol>\n",
    "The above not enough for you? Try these:\n",
    "- download the JSON file directly into your Jupyter notebook by making a URL request to the address shown above\n",
    "- rename columns to shorter, easier-to-display names\n",
    "- reformat the datetime value to something easier to read for someone in its offset timezone (US Eastern)\n",
    "- convert the dewpoint's Celsius value to Fahrenheit\n",
    "- concatenate columns \"temperature\" and \"temperatureUnit\" so that the reader better understands the \"temperature\" value\n",
    "- use a json datafile that you download directly from the source \"https://api.weather.gov\"\n",
    "</ol>\n",
    "-->\n"
   ]
  },
  {
   "cell_type": "code",
   "execution_count": 3,
   "metadata": {},
   "outputs": [],
   "source": [
    "import pandas as pd"
   ]
  },
  {
   "cell_type": "code",
   "execution_count": 5,
   "metadata": {},
   "outputs": [
    {
     "name": "stdout",
     "output_type": "stream",
     "text": [
      "d:\\00 Development\\Code KY\\challenges\n"
     ]
    }
   ],
   "source": [
    "import os\n",
    "print(os.getcwd())\n",
    "\n",
    "#weather_file_1 = pd.read_json('nws_weather_4HourForecast.json')"
   ]
  }
 ],
 "metadata": {
  "kernelspec": {
   "display_name": ".venv",
   "language": "python",
   "name": "python3"
  },
  "language_info": {
   "codemirror_mode": {
    "name": "ipython",
    "version": 3
   },
   "file_extension": ".py",
   "mimetype": "text/x-python",
   "name": "python",
   "nbconvert_exporter": "python",
   "pygments_lexer": "ipython3",
   "version": "3.13.0"
  }
 },
 "nbformat": 4,
 "nbformat_minor": 2
}
