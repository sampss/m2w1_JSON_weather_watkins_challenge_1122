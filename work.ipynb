{
 "cells": [
  {
   "cell_type": "markdown",
   "metadata": {},
   "source": [
    "<h1>m2w1_JSON_weather_watkins_challenge_1122</h2>\n",
    "\n",
    "<b>Challenge Steps</b>\n",
    "<ol>\n",
    "<li>New Project - Done</li>\n",
    "<li>New Venv - Done</li>\n",
    "<li>New Jupyter - Done</li>\n",
    "<li>Download JSON file \"nws_weather_4HourForecast.json\" to the root directory of your python project.</li>\n",
    "<li>Import the json file into a Python dictionary.</li>\n",
    "<li>Iterate through the \"Properties\" key, loading keys and values into a Pandas dataframe</li>\n",
    "<li>Display as a table the following columns:\n",
    "\"startTime\" ,\"shortForecast\" ,\"temperature\" ,\"probabilityOfPrecipitation\" ,\"relativeHumidity\"\n",
    "</li>\n",
    "</ol>\n",
    " \n",
    "<!--\n",
    "\n",
    "<b>More Challenge<\\b>\n",
    "<ol>\n",
    "The above not enough for you? Try these:\n",
    "- download the JSON file directly into your Jupyter notebook by making a URL request to the address shown above\n",
    "- rename columns to shorter, easier-to-display names\n",
    "- reformat the datetime value to something easier to read for someone in its offset timezone (US Eastern)\n",
    "- convert the dewpoint's Celsius value to Fahrenheit\n",
    "- concatenate columns \"temperature\" and \"temperatureUnit\" so that the reader better understands the \"temperature\" value\n",
    "- use a json datafile that you download directly from the source \"https://api.weather.gov\"\n",
    "</ol>\n",
    "-->\n"
   ]
  },
  {
   "cell_type": "code",
   "execution_count": 8,
   "metadata": {},
   "outputs": [],
   "source": [
    "import json\n",
    "import pandas as pd"
   ]
  },
  {
   "cell_type": "code",
   "execution_count": null,
   "metadata": {},
   "outputs": [
    {
     "data": {
      "text/html": [
       "<div>\n",
       "<style scoped>\n",
       "    .dataframe tbody tr th:only-of-type {\n",
       "        vertical-align: middle;\n",
       "    }\n",
       "\n",
       "    .dataframe tbody tr th {\n",
       "        vertical-align: top;\n",
       "    }\n",
       "\n",
       "    .dataframe thead th {\n",
       "        text-align: right;\n",
       "    }\n",
       "</style>\n",
       "<table border=\"1\" class=\"dataframe\">\n",
       "  <thead>\n",
       "    <tr style=\"text-align: right;\">\n",
       "      <th></th>\n",
       "      <th>startTime</th>\n",
       "      <th>shortForecast</th>\n",
       "      <th>temperature</th>\n",
       "      <th>probabilityOfPrecipitation.value</th>\n",
       "      <th>relativeHumidity.value</th>\n",
       "    </tr>\n",
       "  </thead>\n",
       "  <tbody>\n",
       "    <tr>\n",
       "      <th>0</th>\n",
       "      <td>2024-11-16T11:00:00-05:00</td>\n",
       "      <td>Partly Sunny</td>\n",
       "      <td>51</td>\n",
       "      <td>0</td>\n",
       "      <td>71</td>\n",
       "    </tr>\n",
       "    <tr>\n",
       "      <th>1</th>\n",
       "      <td>2024-11-16T12:00:00-05:00</td>\n",
       "      <td>Partly Sunny</td>\n",
       "      <td>53</td>\n",
       "      <td>0</td>\n",
       "      <td>69</td>\n",
       "    </tr>\n",
       "    <tr>\n",
       "      <th>2</th>\n",
       "      <td>2024-11-16T13:00:00-05:00</td>\n",
       "      <td>Partly Sunny</td>\n",
       "      <td>54</td>\n",
       "      <td>0</td>\n",
       "      <td>69</td>\n",
       "    </tr>\n",
       "    <tr>\n",
       "      <th>3</th>\n",
       "      <td>2024-11-16T14:00:00-05:00</td>\n",
       "      <td>Partly Sunny</td>\n",
       "      <td>54</td>\n",
       "      <td>0</td>\n",
       "      <td>66</td>\n",
       "    </tr>\n",
       "  </tbody>\n",
       "</table>\n",
       "</div>"
      ],
      "text/plain": [
       "                   startTime shortForecast  temperature  \\\n",
       "0  2024-11-16T11:00:00-05:00  Partly Sunny           51   \n",
       "1  2024-11-16T12:00:00-05:00  Partly Sunny           53   \n",
       "2  2024-11-16T13:00:00-05:00  Partly Sunny           54   \n",
       "3  2024-11-16T14:00:00-05:00  Partly Sunny           54   \n",
       "\n",
       "   probabilityOfPrecipitation.value  relativeHumidity.value  \n",
       "0                                 0                      71  \n",
       "1                                 0                      69  \n",
       "2                                 0                      69  \n",
       "3                                 0                      66  "
      ]
     },
     "execution_count": 19,
     "metadata": {},
     "output_type": "execute_result"
    }
   ],
   "source": [
    "#minor change\n",
    "\n",
    "with open(r'D:\\00 Development\\Code KY\\challenges\\m2w1_JSON_weather_watkins_challenge_1122\\nws_weather_4HourForecast.json', 'r') as file:\n",
    "    data = json.load(file)\n",
    "\n",
    "weather_info = pd.json_normalize(data[\"properties\"][\"periods\"])\n",
    "selected_weather_info = weather_info[[\"startTime\", \"shortForecast\", \"temperature\", \"probabilityOfPrecipitation.value\", \"relativeHumidity.value\"]]\n",
    "\n",
    "selected_weather_info\n",
    "\n"
   ]
  }
 ],
 "metadata": {
  "kernelspec": {
   "display_name": ".venv",
   "language": "python",
   "name": "python3"
  },
  "language_info": {
   "codemirror_mode": {
    "name": "ipython",
    "version": 3
   },
   "file_extension": ".py",
   "mimetype": "text/x-python",
   "name": "python",
   "nbconvert_exporter": "python",
   "pygments_lexer": "ipython3",
   "version": "3.13.0"
  }
 },
 "nbformat": 4,
 "nbformat_minor": 2
}
